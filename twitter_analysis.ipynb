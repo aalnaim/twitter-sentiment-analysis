{
 "cells": [
  {
   "cell_type": "code",
   "execution_count": 3,
   "metadata": {
    "collapsed": false
   },
   "outputs": [],
   "source": [
    "import tweepy\n",
    "import pandas\n",
    "import matplotlib.pyplot as plt\n",
    "from vaderSentiment.vaderSentiment import SentimentIntensityAnalyzer\n",
    "import datetime\n",
    "import time\n",
    "analyzer = SentimentIntensityAnalyzer()"
   ]
  },
  {
   "cell_type": "code",
   "execution_count": 6,
   "metadata": {
    "collapsed": true
   },
   "outputs": [],
   "source": [
    "\n",
    "\n",
    "#Twitter API Keys\n",
    "consumer_key = ''\n",
    "consumer_secret = ''\n",
    "access_token = \t''\n",
    "access_token_secret = ''\n",
    "\n",
    "auth = tweepy.OAuthHandler(consumer_key, consumer_secret)\n",
    "auth.set_access_token(access_token, access_token_secret)\n",
    "api = tweepy.API(auth, parser=tweepy.parsers.JSONParser())\n",
    "\n",
    "media_list = ['@CBS', '@CNN', '@Fox', '@NYTimes', '@BBC']\n",
    "\n",
    "compound_list = []\n",
    "positive_list = []\n",
    "negative_list = []\n",
    "neutral_list = []\n",
    "text_list = []\n",
    "date_list = []\n",
    "screen_name_list = []\n",
    "count = []"
   ]
  },
  {
   "cell_type": "code",
   "execution_count": 13,
   "metadata": {
    "collapsed": false
   },
   "outputs": [
    {
     "name": "stdout",
     "output_type": "stream",
     "text": [
      "CBS:: The talented @johnlegend is here to pay homage to @eltonofficial with \"Don’t Let The Sun Go Down On Me.\"… https://t.co/1k2AsaxJSN\n",
      "CNN:: This is the 16-year-old behind the National School Walkout https://t.co/dx2XNfBxM8 https://t.co/FAOF5IhsmN\n",
      "fox:: @ScottCate Sadly, the default in situations like that is a reactionary fix, not structural change, understanding an… https://t.co/vDh3DQHLKa\n",
      "nytimes:: How Harvey Karp, one of this generation’s most trusted parenting experts, turned infant sleep into an even bigger b… https://t.co/qIqNigFkHH\n",
      "BBC:: Yummy-liscious! 😂🥄 Emily and Pam have found a unique way to cook their homegrown runner beans. https://t.co/AAkuGp0aHW\n"
     ]
    }
   ],
   "source": [
    "for news in media_list:\n",
    "    \n",
    "    indx = 0\n",
    "    \n",
    "    for page in range(5):\n",
    "        \n",
    "        news_tweets = api.user_timeline(screen_name=news, count=100)\n",
    "        \n",
    "        for tweet in news_tweets:\n",
    "            \n",
    "            text = tweet['text']\n",
    "            tweet_date = tweet['created_at']\n",
    "            screen_name = tweet['user']['screen_name']\n",
    "    print('%s:: %s' % (screen_name, text))\n",
    "        \n",
    "        "
   ]
  },
  {
   "cell_type": "code",
   "execution_count": null,
   "metadata": {
    "collapsed": true
   },
   "outputs": [],
   "source": []
  }
 ],
 "metadata": {
  "anaconda-cloud": {},
  "kernelspec": {
   "display_name": "Python [conda root]",
   "language": "python",
   "name": "conda-root-py"
  },
  "language_info": {
   "codemirror_mode": {
    "name": "ipython",
    "version": 3
   },
   "file_extension": ".py",
   "mimetype": "text/x-python",
   "name": "python",
   "nbconvert_exporter": "python",
   "pygments_lexer": "ipython3",
   "version": "3.5.2"
  }
 },
 "nbformat": 4,
 "nbformat_minor": 2
}
